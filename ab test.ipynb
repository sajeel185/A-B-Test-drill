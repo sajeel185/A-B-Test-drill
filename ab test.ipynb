{
 "cells": [
  {
   "cell_type": "markdown",
   "metadata": {},
   "source": [
    "### Question 1: Does a new supplement help people sleep better?\n",
    "\n",
    "The first part of an A/B test is to get two versions of something whose affects will be compared.  For the purpose of this question, version one can be the new supplement.  The second version could be an older supplement currently in use (or no supplement).  The second version would be our control version.  For the purpose of this discussion, lets assume that there is a older supplement currently in use.\n",
    "\n",
    "The second part of an A/B test is the sample.  For the purpose of this quesiton, our sample would be a random subset of people who are currently taking the older supplement.  In order to avoid our results being manipulated by another factor, we would choose a random sample of people of similar age, gender, health, and similar individual stress levels. Than considering all things similar within our sample, our first experimental group of the sample would consist of those that take the new supplement (Version A), and the second experimental group of the sample would be those people that took the old supplement (Version B).\n",
    "\n",
    "For the purpose of this question, I would hypothesize that the new supplement would help people sleep better, and the outcome that I am interested in would be the total amount of continous sleep each person in the different versions of our sample groups experienced, measured in hours.  If those people that took the new supplement experienced a dramatic increase in the quality of their sleep, we could suggest that the new supplement does help people get better sleep. \n",
    "\n",
    "Any additional outcomes that we could observe from our experiment are maybe additional reactions to health, such as does the new supplement make a person less attentive, or more attentive, than the average person.\n",
    "\n"
   ]
  },
  {
   "cell_type": "markdown",
   "metadata": {},
   "source": [
    "### Question 2: Will new Uniform help a gym's business?\n",
    "\n",
    "For the purpose of this question, the two versions whose affects we will compare will be the new uniform (version A) and the old uniform (version B).  This will be the first part of our A/B test.\n",
    "\n",
    "For the purpose of this question, the sample would be a random time selected from the business year, and in order to avoid having our sample being manipulated by another factor that's not either Version A or Version B, we would run the two versions of the experiment on similar days of the week during a similar time of the year.  We would avoid specfic time periods tsuch as the time period around new years day after the holidays, when the uptick in business may just be seasonal.  Than considering all things equal, our first experimental group of the sample would consist of those days on which the gym used the new uniforms (Version A), and the second experimental group of the sample would be those days on which the gym used the older uniforms (Version B).\n",
    "\n",
    "I hypothesize that the current patrons of the gym will spend more money and thus increase the gym's business.  The outcome that I would be interested in is seeing how much money the patron's spent on the services that the gym offered throughout the two different versions of the sample period; on services such as hiring personal trainers or joining fitness classes.  I could measure this outcome by comparing the gross revenue from the two experimental groups of our sample.  If the gross revenue during the period of the first experiment group (new uniforms) was significantly higher, I would suggest that the gym get new uniforms for its employees.\n",
    "\n",
    "An additional outcome that we could observe from our experiment is the number of new customers joining the gym during the two different versions of our experiment."
   ]
  },
  {
   "cell_type": "markdown",
   "metadata": {},
   "source": [
    "### Question 3: Will a new homepage improve my online exotic pet rental business?\n",
    "\n",
    "For the purpose of this question, the two versions whose affects we will compare will be the current homepage (version A) and the old homepage (version B).\n",
    "\n",
    "For the purpose of this question, the sample would be a random time selected from the business year, and in order to avoid having our sample being manipulated by another factor that's not either Version A or Version B, we would run this experiment on similar days of the week during a similar time of the year.  We would avoid specific time periods where the uptick in business is seasonal.  Than considering all things equal, our first experimental group of the sample would consist of the time frame when the website had displayed the new homepage (Version A), and the second experimental group of the sample would be the time frame when the website displayed the older homepage. (Version B).\n",
    "\n",
    "I would hypothesize that the new homepage would not improve the online exotic pet rental business.  The outcome that I would be interested in is seeing how many pets were rented out during the the two different versions of the sample period.  I would measure this outcome by the number of transactions completed during both of the time periods of the two experimental groups of our sample.  In this situation, the number of transactions completed would be a better measure then just accounting for the changes in revenue, because revenue can be manipulated by changes in prices.\n",
    "\n",
    "An additional outcome that we could observe from our experiment is which exotic pets are most in demand."
   ]
  },
  {
   "cell_type": "markdown",
   "metadata": {},
   "source": [
    "### Question 4: If I put 'please read' in the email subject will more people read my emails?\n",
    "\n",
    "For the purpose of this question, the two versions whose affects we will compare will be the new email subject including \"please read\" (Version A) and the old email subject format not including \"please read\" (Version B).\n",
    "\n",
    "The sample would be a random subset of the current people in my email list.  We would be careful in carefully selecting a random sample of people who have a shared interest in the subject matter of the emails that I send out.  Than considering all things equal, our first experimental group of the sample would consist of the those people that got Version A of the email, and the second experimental group of the sample would consist of those people that got Version B of the email.\n",
    "\n",
    "I would hypothesize that putting \"please read\" in the email subject may lead more people to read my emails.  The outcome that I would be interested in is seeing how many people opened the email and read it in the two different groups of our sample, and it could be measured with the click through rate.\n",
    "\n"
   ]
  }
 ],
 "metadata": {
  "kernelspec": {
   "display_name": "Python 3",
   "language": "python",
   "name": "python3"
  },
  "language_info": {
   "codemirror_mode": {
    "name": "ipython",
    "version": 3
   },
   "file_extension": ".py",
   "mimetype": "text/x-python",
   "name": "python",
   "nbconvert_exporter": "python",
   "pygments_lexer": "ipython3",
   "version": "3.7.0"
  }
 },
 "nbformat": 4,
 "nbformat_minor": 2
}
