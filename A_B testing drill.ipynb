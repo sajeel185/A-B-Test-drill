{
 "cells": [
  {
   "cell_type": "markdown",
   "metadata": {},
   "source": [
    "### Question 1: Does a new supplement help people sleep better?\n",
    "\n",
    "Two versions for this A/B test: Version A will be the new supplement, and Version B will be older supplement currently in use (our control group).  For the purpose of this discussion, lets assume that there is a older supplement currently in use.\n",
    "\n",
    "Hypothesis: The new supplement will help people sleep better.\n",
    "\n",
    "Sample: From those people that are currently taking the older supplement, choose a random subset of 2000 people based on similar age, health, and similar individual stress levels, and divide them into two equal groups.  Include males and females in both groups.  We will administer Version A to the first group and Version B to the second group.\n",
    "\n",
    "Outcome of interest: the total amount of continous sleep each person in the two different versions of our sample groups experienced, measured in hours.\n",
    "\n",
    "Process: We will have each subject come into our clinic every night for a period of three months, to sleep in a controlled environment, where we will monitor his/her sleeping duration.  If the sleeping duration increased by atleast 10% more in the group with Version A, versus Version B, we will conclude that the new supplement does help people sleep better.\n",
    "\n",
    "Secondary outcome: Additional reactions to health, such as does the new supplement make a person less attentive, or more attentive, than the average person.\n",
    "\n"
   ]
  },
  {
   "cell_type": "markdown",
   "metadata": {},
   "source": [
    "### Question 2: Will new Uniform help a gym's business?\n",
    "\n",
    "Two versions of the A/B test: Version A will be the new uniform, and Version B will be the old uniform.\n",
    "\n",
    "Hypothesis: New uniforms will help the gym's business.\n",
    "\n",
    "Sample: Select randomly a period of six months from the business year, avoiding time periods when uptick in business might be seasonal, such as the time around New Years day, after the holidays.  Divide the time period selected into two groups of three months each.  The first group will work with Version A of our experiment, and the second group will work with Version B. \n",
    "\n",
    "Outcome of interest: Revenue generated from the gym's patrons during the two different versions of our sample period, measured in sales.\n",
    "\n",
    "Process: Sum up the total sales from all the products and services the gym sells, separately for each version of our experiment.  Than compare the sales from Version A with the sales of Version B, and also compare them to the total sales for the same time periods from last year.  If we see atleast a 15% increase in sales from Version A, when compared to last year's sales, than we can conclude that the new uniforms will help the gym's business.\n",
    "\n",
    "Secondary outcome: we could observe the number of new customers joining the gym during the two different versions of our experiment."
   ]
  },
  {
   "cell_type": "markdown",
   "metadata": {},
   "source": [
    "### Question 3: Will a new homepage improve my online exotic pet rental business?\n",
    "\n",
    "Two versions for the A/B test: Version A will be the new homepage, and Version B will be the current homepage.\n",
    "\n",
    "Hypothesis: The new homepage will not improve my online exotic pet rental business.\n",
    "\n",
    "Sample: Select randomly a period of six months from the business year, avoiding time periods when uptick in business might be seasonal, like the time around certain amusement events or trade fairs.  Divide the time period selected into two groups of three months each.  The first group will work with Version A, and the second group will work with Version B.\n",
    "\n",
    "Outcome of interest: Revenue generated during the two separate versions of our experiment, measured by the total sales completed during each version of our experiment.\n",
    "\n",
    "Process: Count all the receipts generated during each version of our experiment.  Than compare the number of receipts from Version A, with Version B, and also compare them to the total sales for the same time periods from last year.  If we see atleast a 20% increase in sales from Version A, when compared to last year's sales, than we can conclude that the new homepage will help the my exotic pet rental business.\n",
    "\n",
    "\n",
    "Secondary outcome: observe the average transaction amount spent per receipt."
   ]
  },
  {
   "cell_type": "markdown",
   "metadata": {},
   "source": [
    "### Question 4: If I put 'please read' in the email subject will more people read my emails?\n",
    "\n",
    "Two versions for the A/B test: Version A will be the new email subject with \"please read\", and Version B will be the old email subject format.\n",
    "\n",
    "Hypothesis: Putting \"please read\" in the email subject will lead to more people reading my emails.\n",
    "\n",
    "Sample: select a random subset of 200 people from my current email list, based on similar age, education level, and divide them into two equal groups of 100 people.  Include males and females in both groups.  The first group will be emailed using Version A, and the second group will be emailed using Version B.\n",
    "\n",
    "Outcome of interst: The number of people who opened my email, in the two separate versions of our experiment, measured by the click through rate.\n",
    "\n",
    "Process: Sum up all the total number of emails read during each version of our experiment, than compare the result of version A with Version B.  If atleast 15% more people opened my emails using Version A, we will conclude that adding \"please read\" will lead to more people reading my emails.\n"
   ]
  }
 ],
 "metadata": {
  "kernelspec": {
   "display_name": "Python 3",
   "language": "python",
   "name": "python3"
  },
  "language_info": {
   "codemirror_mode": {
    "name": "ipython",
    "version": 3
   },
   "file_extension": ".py",
   "mimetype": "text/x-python",
   "name": "python",
   "nbconvert_exporter": "python",
   "pygments_lexer": "ipython3",
   "version": "3.7.0"
  }
 },
 "nbformat": 4,
 "nbformat_minor": 2
}
